{
 "cells": [
  {
   "cell_type": "markdown",
   "metadata": {},
   "source": [
    "# Universal Sentence Representations\n",
    "---\n",
    "This project experiments with different ways to learn universal sentence representations. Four different neural models are implemented to encode sentences. These models are trained on the Stanford Natural Language Inference corpus to classify sentence pairs based on their relation. The learned sentence representations are evaluated using the SentEval framework.\n",
    "![](architectures.png)"
   ]
  },
  {
   "cell_type": "markdown",
   "metadata": {},
   "source": [
    "## Import Libraries"
   ]
  },
  {
   "cell_type": "code",
   "execution_count": 1,
   "metadata": {},
   "outputs": [],
   "source": [
    "import sys\n",
    "import torch\n",
    "import logging\n",
    "import numpy as np\n",
    "import pandas as pd\n",
    "import matplotlib.pyplot as plt\n",
    "\n",
    "%matplotlib inline"
   ]
  },
  {
   "cell_type": "code",
   "execution_count": 37,
   "metadata": {},
   "outputs": [],
   "source": [
    "from trainer import Trainer\n",
    "from models.uni_lstm import UniLSTM\n",
    "from models.bi_lstm import BiLSTM\n",
    "from models.bi_lstm_pool import BiLSTMPool\n",
    "from models.embedding_encoder import EmbeddingEncoder\n",
    "from utils import report_senteval\n",
    "from utils import SentenceEncoder"
   ]
  },
  {
   "cell_type": "markdown",
   "metadata": {},
   "source": [
    "## Global Config"
   ]
  },
  {
   "cell_type": "code",
   "execution_count": 3,
   "metadata": {},
   "outputs": [],
   "source": [
    "PATH_TO_SENTEVAL = 'SentEval'\n",
    "PATH_TO_DATA = 'SentEval/data'\n",
    "pd.set_option(\"display.precision\", 3)"
   ]
  },
  {
   "cell_type": "code",
   "execution_count": 4,
   "metadata": {},
   "outputs": [],
   "source": [
    "sys.path.insert(0, PATH_TO_SENTEVAL)\n",
    "import senteval"
   ]
  },
  {
   "cell_type": "code",
   "execution_count": 5,
   "metadata": {},
   "outputs": [],
   "source": [
    "import warnings\n",
    "from sklearn.exceptions import ConvergenceWarning\n",
    "warnings.simplefilter(\"ignore\", ConvergenceWarning)"
   ]
  },
  {
   "cell_type": "markdown",
   "metadata": {},
   "source": [
    "# 1. SNLI & SentEval Performance\n",
    "Here, we measure the performance of our trained models on the original task they were trained on: Stanford Natural Language Inference. Then we evaluate the learned sentence representations using the SentEval framework on the following transfer tasks:"
   ]
  },
  {
   "cell_type": "markdown",
   "metadata": {},
   "source": [
    "|   Code \t| Task Description             \t|\n",
    "|-------:\t|------------------------------\t|\n",
    "|     MR \t| Movie Review                 \t|\n",
    "|     CR \t| Product Review               \t|\n",
    "|   SUBJ \t| Subjectivity Status          \t|\n",
    "|   MQPA \t| Opinion Polarity             \t|\n",
    "|    SST \t| Binary Sentiment Analysis    \t|\n",
    "|   TREC \t| Question type Classification \t|\n",
    "| SICK-E \t| Natural Language Inference   \t|\n",
    "|   MRPC \t| Paraphrase Detection         \t|\n",
    "|  STS14 \t| Semantic Textual Similarity  \t|"
   ]
  },
  {
   "cell_type": "code",
   "execution_count": 6,
   "metadata": {},
   "outputs": [],
   "source": [
    "def batcher(params, batch):\n",
    "    batch = [sent if sent != [] else ['.'] for sent in batch]\n",
    "    embeddings = []\n",
    "    for sent in batch:\n",
    "        sent_tokens = torch.tensor([[params.vocab.stoi[word] for word in sent]])\n",
    "        x = (sent_tokens, [len(sent_tokens)])\n",
    "        with torch.no_grad():\n",
    "            sent_vec = params.encoder(x)\n",
    "        embeddings.append(sent_vec.detach().numpy())\n",
    "    embeddings = np.vstack(embeddings)\n",
    "    return embeddings"
   ]
  },
  {
   "cell_type": "code",
   "execution_count": 7,
   "metadata": {},
   "outputs": [],
   "source": [
    "params = {'task_path': PATH_TO_DATA, 'usepytorch': False, 'kfold': 5}\n",
    "params['classifier'] = {'nhid': 0, 'optim': 'adam', 'batch_size': 128, 'tenacity': 2, 'epoch_size': 3}\n",
    "transfer_tasks = ['MR', 'CR', 'MPQA', 'SUBJ', 'SST2', 'TREC', 'MRPC', 'SICKEntailment', 'STS14']  "
   ]
  },
  {
   "cell_type": "markdown",
   "metadata": {},
   "source": [
    "## Baseline: Embedding Average\n",
    "The first model takes the pre-trained GloVe word embeddings for each word in the sentence and simply averages them to come up with the sentence representations. This serves as our baseline model to compare the LSTM models against. Although this bag-of-words approach to sentence representation looks naive, it is quite a strong baseline. "
   ]
  },
  {
   "cell_type": "code",
   "execution_count": 8,
   "metadata": {},
   "outputs": [],
   "source": [
    "config = {\n",
    "    \"exp_name\": \"baseline\",\n",
    "    \"epochs\": 20,\n",
    "    \"encoder\": \"EmbeddingEncoder\",\n",
    "    \"batch_size\": 128,\n",
    "    \"learning_rate\": 1e-3,\n",
    "    \"seed\": 42,\n",
    "    \"debug\": False,\n",
    "    \"device\": 'cpu',\n",
    "    \"valid_freq\": 1000,\n",
    "    \"save_freq\": 2000,\n",
    "    \"test_checkpoint\": 'best-model.pt'\n",
    "}"
   ]
  },
  {
   "cell_type": "code",
   "execution_count": 9,
   "metadata": {},
   "outputs": [
    {
     "name": "stderr",
     "output_type": "stream",
     "text": [
      "INFO:trainer:--------------------------------------------------\n",
      "INFO:trainer:EXPERIMENT: baseline\n",
      "INFO:trainer:--------------------------------------------------\n",
      "INFO:trainer:Setting seed: 42\n",
      "INFO:trainer:Loading data ...\n",
      "INFO:trainer:Using device: cpu\n",
      "INFO:trainer:Loading checkpoint from checkpoints/baseline/best-model.pt\n"
     ]
    },
    {
     "name": "stdout",
     "output_type": "stream",
     "text": [
      "[Test]\tAccuracy: 0.777 Total Loss: 1.528\n"
     ]
    }
   ],
   "source": [
    "trainer = Trainer(config) \n",
    "print(trainer.test())"
   ]
  },
  {
   "cell_type": "code",
   "execution_count": 11,
   "metadata": {},
   "outputs": [],
   "source": [
    "def prepare(params, samples):\n",
    "    params.vocab = trainer.vocab\n",
    "    params.encoder = trainer.model.encoder    \n",
    "    return"
   ]
  },
  {
   "cell_type": "code",
   "execution_count": 12,
   "metadata": {},
   "outputs": [],
   "source": [
    "se = senteval.engine.SE(params, batcher, prepare)\n",
    "results = se.eval(transfer_tasks)"
   ]
  },
  {
   "cell_type": "code",
   "execution_count": 14,
   "metadata": {},
   "outputs": [
    {
     "data": {
      "text/html": [
       "<div>\n",
       "<style scoped>\n",
       "    .dataframe tbody tr th:only-of-type {\n",
       "        vertical-align: middle;\n",
       "    }\n",
       "\n",
       "    .dataframe tbody tr th {\n",
       "        vertical-align: top;\n",
       "    }\n",
       "\n",
       "    .dataframe thead th {\n",
       "        text-align: right;\n",
       "    }\n",
       "</style>\n",
       "<table border=\"1\" class=\"dataframe\">\n",
       "  <thead>\n",
       "    <tr style=\"text-align: right;\">\n",
       "      <th></th>\n",
       "      <th>CR</th>\n",
       "      <th>MPQA</th>\n",
       "      <th>MR</th>\n",
       "      <th>MRPC</th>\n",
       "      <th>SICKEntailment</th>\n",
       "      <th>SST2</th>\n",
       "      <th>SUBJ</th>\n",
       "      <th>TREC</th>\n",
       "      <th>macro</th>\n",
       "      <th>micro</th>\n",
       "    </tr>\n",
       "  </thead>\n",
       "  <tbody>\n",
       "    <tr>\n",
       "      <th>metric</th>\n",
       "      <td>79.16</td>\n",
       "      <td>84.67</td>\n",
       "      <td>75.01</td>\n",
       "      <td>70.85</td>\n",
       "      <td>81.0</td>\n",
       "      <td>77.64</td>\n",
       "      <td>90.52</td>\n",
       "      <td>67.64</td>\n",
       "      <td>78.311</td>\n",
       "      <td>79.828</td>\n",
       "    </tr>\n",
       "    <tr>\n",
       "      <th>n_samples</th>\n",
       "      <td>3775.00</td>\n",
       "      <td>10606.00</td>\n",
       "      <td>10662.00</td>\n",
       "      <td>4076.00</td>\n",
       "      <td>500.0</td>\n",
       "      <td>872.00</td>\n",
       "      <td>10000.00</td>\n",
       "      <td>5452.00</td>\n",
       "      <td>45943.000</td>\n",
       "      <td>10209.556</td>\n",
       "    </tr>\n",
       "  </tbody>\n",
       "</table>\n",
       "</div>"
      ],
      "text/plain": [
       "                CR      MPQA        MR     MRPC  SICKEntailment    SST2  \\\n",
       "metric       79.16     84.67     75.01    70.85            81.0   77.64   \n",
       "n_samples  3775.00  10606.00  10662.00  4076.00           500.0  872.00   \n",
       "\n",
       "               SUBJ     TREC      macro      micro  \n",
       "metric        90.52    67.64     78.311     79.828  \n",
       "n_samples  10000.00  5452.00  45943.000  10209.556  "
      ]
     },
     "execution_count": 14,
     "metadata": {},
     "output_type": "execute_result"
    }
   ],
   "source": [
    "report_senteval(results)"
   ]
  },
  {
   "cell_type": "markdown",
   "metadata": {},
   "source": [
    "We observe that the rather simple looking average embedding model achieves a strong baseline. Most importantly we take note of the accuracy of the model on the SNLI test set. To aggregate the performance of the model on the SentEval framework we take note of the macro and micro measurements on the development set:  \n",
    "* SNLI Test Accuracy: **77%**\n",
    "* SentEval Macro: **78%**\n",
    "* SentEval Micro: **79%**"
   ]
  },
  {
   "cell_type": "markdown",
   "metadata": {},
   "source": [
    "## Unidirectional LSTM\n",
    "The unidirectional LSTM model employs a single layer of 2048 hidden units. The last hidden representation of the sequence is considered the hidden representation of the sentence. Whereas using recurrence is sure to result in performance gains over the last baseline, it might still have problems processing longer sentences where the chances of forgetting the initial information is quite high."
   ]
  },
  {
   "cell_type": "code",
   "execution_count": 9,
   "metadata": {},
   "outputs": [],
   "source": [
    "config = {\n",
    "    \"exp_name\": \"uni_lstm\",\n",
    "    \"epochs\": 20,\n",
    "    \"encoder\": \"UniLSTM\",\n",
    "    \"batch_size\": 128,\n",
    "    \"hidden_dim\": 2048,\n",
    "    \"num_layers\": 1,\n",
    "    \"learning_rate\": 1e-3,\n",
    "    \"seed\": 42,\n",
    "    \"debug\": False,\n",
    "    \"device\": 'cpu',\n",
    "    \"valid_freq\": 1000,\n",
    "    \"save_freq\": 4000,\n",
    "    \"test_checkpoint\": 'best-model.pt'\n",
    "}"
   ]
  },
  {
   "cell_type": "code",
   "execution_count": 10,
   "metadata": {},
   "outputs": [
    {
     "name": "stderr",
     "output_type": "stream",
     "text": [
      "INFO:trainer:--------------------------------------------------\n",
      "INFO:trainer:EXPERIMENT: uni_lstm\n",
      "INFO:trainer:--------------------------------------------------\n",
      "INFO:trainer:Setting seed: 42\n",
      "INFO:trainer:Loading data ...\n",
      "INFO:trainer:Using device: cpu\n",
      "INFO:trainer:Loading checkpoint from checkpoints/uni_lstm/best-model.pt\n"
     ]
    },
    {
     "name": "stdout",
     "output_type": "stream",
     "text": [
      "[Test]\tAccuracy: 0.812 Total Loss: 0.517\n"
     ]
    }
   ],
   "source": [
    "uni_trainer = Trainer(config) \n",
    "print(uni_trainer.test())"
   ]
  },
  {
   "cell_type": "code",
   "execution_count": 12,
   "metadata": {},
   "outputs": [],
   "source": [
    "def prepare(params, samples):\n",
    "    params.vocab = uni_trainer.vocab\n",
    "    params.encoder = uni_trainer.model.encoder    \n",
    "    return"
   ]
  },
  {
   "cell_type": "code",
   "execution_count": 13,
   "metadata": {},
   "outputs": [],
   "source": [
    "se = senteval.engine.SE(params, batcher, prepare)\n",
    "results = se.eval(transfer_tasks)"
   ]
  },
  {
   "cell_type": "code",
   "execution_count": 16,
   "metadata": {},
   "outputs": [
    {
     "data": {
      "text/html": [
       "<div>\n",
       "<style scoped>\n",
       "    .dataframe tbody tr th:only-of-type {\n",
       "        vertical-align: middle;\n",
       "    }\n",
       "\n",
       "    .dataframe tbody tr th {\n",
       "        vertical-align: top;\n",
       "    }\n",
       "\n",
       "    .dataframe thead th {\n",
       "        text-align: right;\n",
       "    }\n",
       "</style>\n",
       "<table border=\"1\" class=\"dataframe\">\n",
       "  <thead>\n",
       "    <tr style=\"text-align: right;\">\n",
       "      <th></th>\n",
       "      <th>CR</th>\n",
       "      <th>MPQA</th>\n",
       "      <th>MR</th>\n",
       "      <th>MRPC</th>\n",
       "      <th>SICKEntailment</th>\n",
       "      <th>SST2</th>\n",
       "      <th>SUBJ</th>\n",
       "      <th>TREC</th>\n",
       "      <th>macro</th>\n",
       "      <th>micro</th>\n",
       "    </tr>\n",
       "  </thead>\n",
       "  <tbody>\n",
       "    <tr>\n",
       "      <th>metric</th>\n",
       "      <td>80.56</td>\n",
       "      <td>87.63</td>\n",
       "      <td>77.06</td>\n",
       "      <td>73.55</td>\n",
       "      <td>82.34</td>\n",
       "      <td>80.52</td>\n",
       "      <td>90.16</td>\n",
       "      <td>74.04</td>\n",
       "      <td>80.732</td>\n",
       "      <td>82.092</td>\n",
       "    </tr>\n",
       "    <tr>\n",
       "      <th>n_samples</th>\n",
       "      <td>3775.00</td>\n",
       "      <td>10606.00</td>\n",
       "      <td>10662.00</td>\n",
       "      <td>4076.00</td>\n",
       "      <td>500.00</td>\n",
       "      <td>872.00</td>\n",
       "      <td>10000.00</td>\n",
       "      <td>5452.00</td>\n",
       "      <td>45943.000</td>\n",
       "      <td>10209.556</td>\n",
       "    </tr>\n",
       "  </tbody>\n",
       "</table>\n",
       "</div>"
      ],
      "text/plain": [
       "                CR      MPQA        MR     MRPC  SICKEntailment    SST2  \\\n",
       "metric       80.56     87.63     77.06    73.55           82.34   80.52   \n",
       "n_samples  3775.00  10606.00  10662.00  4076.00          500.00  872.00   \n",
       "\n",
       "               SUBJ     TREC      macro      micro  \n",
       "metric        90.16    74.04     80.732     82.092  \n",
       "n_samples  10000.00  5452.00  45943.000  10209.556  "
      ]
     },
     "execution_count": 16,
     "metadata": {},
     "output_type": "execute_result"
    }
   ],
   "source": [
    "report_senteval(results)"
   ]
  },
  {
   "cell_type": "markdown",
   "metadata": {},
   "source": [
    "We find that the use of recurrence in the form of a single LSTM layer with 2048 hidden units does indeed result in performance gains. The accuracy on the SNLI test set increases and so does the SentEval metrics. Both the macro and micro accuracy over the development set of the SentEval framework increases from the last baseline:  \n",
    "* SNLI Test Accuracy: **81%**\n",
    "* SentEval Macro: **80%**\n",
    "* SentEval Micro: **82%**"
   ]
  },
  {
   "cell_type": "markdown",
   "metadata": {},
   "source": [
    "## Bidirectional LSTM\n",
    "A major limitation of recurrent models is the loss of information over longer sequences. Although LSTMs were developed with smart gating mechanisms to mitigate such problems, it does not entirely go away. Hence, we use bidirectionality to  encode the sentence from both sides. The final hidden representation of the sentence is then extracted for both the directions and then concatenated. This results in each sentence having 4096 features."
   ]
  },
  {
   "cell_type": "code",
   "execution_count": 18,
   "metadata": {},
   "outputs": [],
   "source": [
    "config = {\n",
    "    \"exp_name\": \"bi_lstm\",\n",
    "    \"epochs\": 20,\n",
    "    \"encoder\": \"BiLSTM\",\n",
    "    \"batch_size\": 128,\n",
    "    \"hidden_dim\": 2048,\n",
    "    \"num_layers\": 1,\n",
    "    \"learning_rate\": 1e-3,\n",
    "    \"seed\": 42,\n",
    "    \"debug\": False,\n",
    "    \"device\": 'cpu',\n",
    "    \"valid_freq\": 1000,\n",
    "    \"save_freq\": 4000,\n",
    "    \"test_checkpoint\": 'best-model.pt'\n",
    "}"
   ]
  },
  {
   "cell_type": "code",
   "execution_count": 19,
   "metadata": {},
   "outputs": [
    {
     "name": "stderr",
     "output_type": "stream",
     "text": [
      "INFO:trainer:--------------------------------------------------\n",
      "INFO:trainer:EXPERIMENT: bi_lstm\n",
      "INFO:trainer:--------------------------------------------------\n",
      "INFO:trainer:Setting seed: 42\n",
      "INFO:trainer:Loading data ...\n",
      "INFO:trainer:Using device: cpu\n",
      "INFO:trainer:Loading checkpoint from checkpoints/bi_lstm/best-model.pt\n"
     ]
    },
    {
     "name": "stdout",
     "output_type": "stream",
     "text": [
      "[Test]\tAccuracy: 0.826 Total Loss: 0.473\n"
     ]
    }
   ],
   "source": [
    "bi_trainer = Trainer(config) \n",
    "print(bi_trainer.test())"
   ]
  },
  {
   "cell_type": "code",
   "execution_count": 21,
   "metadata": {},
   "outputs": [],
   "source": [
    "def prepare(params, samples):\n",
    "    params.vocab = bi_trainer.vocab\n",
    "    params.encoder = bi_trainer.model.encoder    \n",
    "    return"
   ]
  },
  {
   "cell_type": "code",
   "execution_count": 22,
   "metadata": {},
   "outputs": [],
   "source": [
    "se = senteval.engine.SE(params, batcher, prepare)\n",
    "results = se.eval(transfer_tasks)"
   ]
  },
  {
   "cell_type": "code",
   "execution_count": 14,
   "metadata": {},
   "outputs": [
    {
     "data": {
      "text/html": [
       "<div>\n",
       "<style scoped>\n",
       "    .dataframe tbody tr th:only-of-type {\n",
       "        vertical-align: middle;\n",
       "    }\n",
       "\n",
       "    .dataframe tbody tr th {\n",
       "        vertical-align: top;\n",
       "    }\n",
       "\n",
       "    .dataframe thead th {\n",
       "        text-align: right;\n",
       "    }\n",
       "</style>\n",
       "<table border=\"1\" class=\"dataframe\">\n",
       "  <thead>\n",
       "    <tr style=\"text-align: right;\">\n",
       "      <th></th>\n",
       "      <th>CR</th>\n",
       "      <th>MPQA</th>\n",
       "      <th>MR</th>\n",
       "      <th>MRPC</th>\n",
       "      <th>SICKEntailment</th>\n",
       "      <th>SST2</th>\n",
       "      <th>SUBJ</th>\n",
       "      <th>TREC</th>\n",
       "      <th>macro</th>\n",
       "      <th>micro</th>\n",
       "    </tr>\n",
       "  </thead>\n",
       "  <tbody>\n",
       "    <tr>\n",
       "      <th>metric</th>\n",
       "      <td>80.88</td>\n",
       "      <td>87.99</td>\n",
       "      <td>76.83</td>\n",
       "      <td>73.85</td>\n",
       "      <td>82.66</td>\n",
       "      <td>80.82</td>\n",
       "      <td>90.75</td>\n",
       "      <td>75.0</td>\n",
       "      <td>81.097</td>\n",
       "      <td>82.427</td>\n",
       "    </tr>\n",
       "    <tr>\n",
       "      <th>n_samples</th>\n",
       "      <td>3775.00</td>\n",
       "      <td>10606.00</td>\n",
       "      <td>10662.00</td>\n",
       "      <td>4076.00</td>\n",
       "      <td>500.00</td>\n",
       "      <td>872.00</td>\n",
       "      <td>10000.00</td>\n",
       "      <td>5452.0</td>\n",
       "      <td>45943.000</td>\n",
       "      <td>10209.556</td>\n",
       "    </tr>\n",
       "  </tbody>\n",
       "</table>\n",
       "</div>"
      ],
      "text/plain": [
       "                CR      MPQA        MR     MRPC  SICKEntailment    SST2  \\\n",
       "metric       80.88     87.99     76.83    73.85           82.66   80.82   \n",
       "n_samples  3775.00  10606.00  10662.00  4076.00          500.00  872.00   \n",
       "\n",
       "               SUBJ    TREC      macro      micro  \n",
       "metric        90.75    75.0     81.097     82.427  \n",
       "n_samples  10000.00  5452.0  45943.000  10209.556  "
      ]
     },
     "execution_count": 14,
     "metadata": {},
     "output_type": "execute_result"
    }
   ],
   "source": [
    "report_senteval(results)"
   ]
  },
  {
   "cell_type": "markdown",
   "metadata": {},
   "source": [
    "With bidirectionality we get the gains in SNLI test accuracy as we expected. The aggregate macro and micro metrics on the SentEval framework also improve. However, there still exists scope for improvement:  \n",
    "* SNLI Test Accuracy: **82%**\n",
    "* SentEval Macro: **81%**\n",
    "* SentEval Micro: **82%**"
   ]
  },
  {
   "cell_type": "markdown",
   "metadata": {},
   "source": [
    "## Bidirectional LSTM with Max Pooling\n",
    "Taking the last hidden activation of the LSTM layers is not always the most optimal thing to do. One of the approaches we can take is by max pooling all the hidden representations across the sequence."
   ]
  },
  {
   "cell_type": "markdown",
   "metadata": {},
   "source": [
    "![](bi_lstm_maxpool.png)"
   ]
  },
  {
   "cell_type": "code",
   "execution_count": 9,
   "metadata": {},
   "outputs": [],
   "source": [
    "config = {\n",
    "    \"exp_name\": \"bi_lstm_pool\",\n",
    "    \"epochs\": 20,\n",
    "    \"encoder\": \"BiLSTMPool\",\n",
    "    \"batch_size\": 128,\n",
    "    \"hidden_dim\": 2048,\n",
    "    \"num_layers\": 1,\n",
    "    \"learning_rate\": 1e-3,\n",
    "    \"seed\": 42,\n",
    "    \"debug\": False,\n",
    "    \"device\": 'cpu',\n",
    "    \"valid_freq\": 1000,\n",
    "    \"save_freq\": 4000,\n",
    "    \"test_checkpoint\": 'best-model.pt'\n",
    "}"
   ]
  },
  {
   "cell_type": "code",
   "execution_count": 10,
   "metadata": {},
   "outputs": [
    {
     "name": "stderr",
     "output_type": "stream",
     "text": [
      "INFO:trainer:--------------------------------------------------\n",
      "INFO:trainer:EXPERIMENT: bi_lstm_pool\n",
      "INFO:trainer:--------------------------------------------------\n",
      "INFO:trainer:Setting seed: 42\n",
      "INFO:trainer:Loading data ...\n",
      "INFO:trainer:Using device: cpu\n",
      "INFO:trainer:Loading checkpoint from checkpoints/bi_lstm_pool/best-model.pt\n"
     ]
    },
    {
     "name": "stdout",
     "output_type": "stream",
     "text": [
      "[Test]\tAccuracy: 0.863 Total Loss: 0.402\n"
     ]
    }
   ],
   "source": [
    "bimax_trainer = Trainer(config) \n",
    "print(bimax_trainer.test())"
   ]
  },
  {
   "cell_type": "code",
   "execution_count": 12,
   "metadata": {},
   "outputs": [],
   "source": [
    "def prepare(params, samples):\n",
    "    params.vocab = bimax_trainer.vocab\n",
    "    params.encoder = bimax_trainer.model.encoder    \n",
    "    return"
   ]
  },
  {
   "cell_type": "code",
   "execution_count": 35,
   "metadata": {},
   "outputs": [],
   "source": [
    "se = senteval.engine.SE(params, batcher, prepare)\n",
    "results = se.eval(transfer_tasks)"
   ]
  },
  {
   "cell_type": "code",
   "execution_count": 41,
   "metadata": {},
   "outputs": [
    {
     "data": {
      "text/html": [
       "<div>\n",
       "<style scoped>\n",
       "    .dataframe tbody tr th:only-of-type {\n",
       "        vertical-align: middle;\n",
       "    }\n",
       "\n",
       "    .dataframe tbody tr th {\n",
       "        vertical-align: top;\n",
       "    }\n",
       "\n",
       "    .dataframe thead th {\n",
       "        text-align: right;\n",
       "    }\n",
       "</style>\n",
       "<table border=\"1\" class=\"dataframe\">\n",
       "  <thead>\n",
       "    <tr style=\"text-align: right;\">\n",
       "      <th></th>\n",
       "      <th>CR</th>\n",
       "      <th>MPQA</th>\n",
       "      <th>MR</th>\n",
       "      <th>MRPC</th>\n",
       "      <th>SICKEntailment</th>\n",
       "      <th>SST2</th>\n",
       "      <th>SUBJ</th>\n",
       "      <th>TREC</th>\n",
       "      <th>macro</th>\n",
       "      <th>micro</th>\n",
       "    </tr>\n",
       "  </thead>\n",
       "  <tbody>\n",
       "    <tr>\n",
       "      <th>metric</th>\n",
       "      <td>81.16</td>\n",
       "      <td>88.67</td>\n",
       "      <td>77.01</td>\n",
       "      <td>74.85</td>\n",
       "      <td>84.0</td>\n",
       "      <td>81.64</td>\n",
       "      <td>91.52</td>\n",
       "      <td>75.64</td>\n",
       "      <td>81.811</td>\n",
       "      <td>83.011</td>\n",
       "    </tr>\n",
       "    <tr>\n",
       "      <th>n_samples</th>\n",
       "      <td>3775.00</td>\n",
       "      <td>10606.00</td>\n",
       "      <td>10662.00</td>\n",
       "      <td>4076.00</td>\n",
       "      <td>500.0</td>\n",
       "      <td>872.00</td>\n",
       "      <td>10000.00</td>\n",
       "      <td>5452.00</td>\n",
       "      <td>45943.000</td>\n",
       "      <td>10209.556</td>\n",
       "    </tr>\n",
       "  </tbody>\n",
       "</table>\n",
       "</div>"
      ],
      "text/plain": [
       "                CR      MPQA        MR     MRPC  SICKEntailment    SST2  \\\n",
       "metric       81.16     88.67     77.01    74.85            84.0   81.64   \n",
       "n_samples  3775.00  10606.00  10662.00  4076.00           500.0  872.00   \n",
       "\n",
       "               SUBJ     TREC      macro      micro  \n",
       "metric        91.52    75.64     81.811     83.011  \n",
       "n_samples  10000.00  5452.00  45943.000  10209.556  "
      ]
     },
     "execution_count": 41,
     "metadata": {},
     "output_type": "execute_result"
    }
   ],
   "source": [
    "report_senteval(results)"
   ]
  },
  {
   "cell_type": "markdown",
   "metadata": {},
   "source": [
    "By max pooling the bidirectional LSTM representations we gain impressive performance boost on the test accuracy of the SNLI corpus. However, we do not see the same improvements in the aggregate macro and micro metrics of the SentEval framework:  \n",
    "* SNLI Test Accuracy: **86%**\n",
    "* SentEval Macro: **81%**\n",
    "* SentEval Micro: **83%**"
   ]
  },
  {
   "cell_type": "markdown",
   "metadata": {},
   "source": [
    "# 2. Analysis & Discussion"
   ]
  },
  {
   "cell_type": "markdown",
   "metadata": {},
   "source": [
    "We see that the test accuracy rises from 77% to 86% as we go from the baseline model to the max pooling bidirectional lstm. Although the aggregate scores on SentEval also rise proportionally, max pooling does not achieve the same improvements. Here, we investigate the possible reasons."
   ]
  },
  {
   "cell_type": "markdown",
   "metadata": {},
   "source": [
    "### Validation Loss for Embedding Average Model\n",
    "<img src=\"results/baseline/Loss_Valid.svg\" width=500px>\n",
    "\n",
    "The validation loss of the baseline model converges very early at around 10k steps with a loss of 0.85 before sharply rising."
   ]
  },
  {
   "cell_type": "markdown",
   "metadata": {},
   "source": [
    "### Validation Loss for Unidirectional LSTM Model\n",
    "<img src=\"results/uni_lstm/Loss_Valid.svg\" width=500px>\n",
    "\n",
    "The validation loss of the unidirectional lstm model does a little bit better and converges around 0.76 at 20k steps to shoot up again."
   ]
  },
  {
   "cell_type": "markdown",
   "metadata": {},
   "source": [
    "### Validation Loss for Bidirectional LSTM Model\n",
    "<img src=\"results/bi_lstm/Loss_Valid.svg\" width=500px>\n",
    "\n",
    "The validation loss here does a little better the unidirectional model by converging at 0.73 before shooting up sharply."
   ]
  },
  {
   "cell_type": "markdown",
   "metadata": {},
   "source": [
    "### Validation Loss for Bidirectional LSTM with Max Pooling \n",
    "<img src=\"results/bi_lstm_pool/Loss_Valid.svg\" width=500px>\n",
    "\n",
    "The validation loss here does not show the trend seen earlier. The Bidirectional lstm with max pooling sharply goes down to around 0.5 but then keeps decreasing but slowly."
   ]
  },
  {
   "cell_type": "markdown",
   "metadata": {},
   "source": [
    "This suggests that the Bidirectional LSTM with max pooling has not yet converged and might be able to learn further. It also clearly shows that the model has achieved a lower loss than any other previous models. The authors of the original paper suggest that this might be due to the higher capacity of the model and the use of Adam optimizer. It also leads to the observed phenomenon that it performs really well on the SNLI tasks which it has learned really well. But due to this specialization it cannot show similar improvements in the other SentEval transfer tasks."
   ]
  },
  {
   "cell_type": "markdown",
   "metadata": {},
   "source": [
    "We can confirm this behaviour by observing the performance of all the models on the transfer task closest to SNLI, which is SICK-E. Here we see that model does show an improvement over the previous models. This is a strong evidence to support the claim that the bidirectional model with max pooling has indeed overfit to the natural language inference tasks where it performs well but does not generalize that well to other transfer tasks. Perhaps training it for longer would help it to learn more general sentence representations."
   ]
  },
  {
   "cell_type": "markdown",
   "metadata": {},
   "source": [
    "# 3. Visualising Representations"
   ]
  },
  {
   "cell_type": "markdown",
   "metadata": {},
   "source": [
    "Here, we try to visualize the sentence representations of the LSTM models. More specifically we look at the word importance in the sentence representations. This is done by taking the maximum activations in each hidden dimension of every activation in the sequence. The total number of maximums activation dimensions are computed for each word. These sums are the importance score of every word in the sentence."
   ]
  },
  {
   "cell_type": "markdown",
   "metadata": {},
   "source": [
    "## Unidirectional LSTM"
   ]
  },
  {
   "cell_type": "code",
   "execution_count": 16,
   "metadata": {},
   "outputs": [
    {
     "data": {
      "image/png": "[encoded data removed]",
      "text/plain": [
       "<Figure size 432x288 with 1 Axes>"
      ]
     },
     "metadata": {
      "needs_background": "light"
     },
     "output_type": "display_data"
    }
   ],
   "source": [
    "uni_trainer.model.encoder.visualize(\"taj mahal is one of the seven wonders of the world\".split(), uni_trainer.vocab)"
   ]
  },
  {
   "cell_type": "code",
   "execution_count": 17,
   "metadata": {},
   "outputs": [
    {
     "data": {
      "image/png": "[encoded data removed]",
      "text/plain": [
       "<Figure size 432x288 with 1 Axes>"
      ]
     },
     "metadata": {
      "needs_background": "light"
     },
     "output_type": "display_data"
    }
   ],
   "source": [
    "uni_trainer.model.encoder.visualize(\"apple is the forbidden fruit of the heaven\".split(), uni_trainer.vocab)"
   ]
  },
  {
   "cell_type": "markdown",
   "metadata": {},
   "source": [
    "Here, we see that hte first word has a proportionally higher importance. And for longer sentences like the first one the importance score decreases towards the end. This might be due to the compensatory mechanism of the LSTM layer to prevent forgetting of the earlier activations."
   ]
  },
  {
   "cell_type": "markdown",
   "metadata": {},
   "source": [
    "## Bidirectional LSTM"
   ]
  },
  {
   "cell_type": "code",
   "execution_count": 25,
   "metadata": {},
   "outputs": [
    {
     "data": {
      "image/png": "[encoded data removed]",
      "text/plain": [
       "<Figure size 432x288 with 1 Axes>"
      ]
     },
     "metadata": {
      "needs_background": "light"
     },
     "output_type": "display_data"
    }
   ],
   "source": [
    "bi_trainer.model.encoder.visualize(\"taj mahal is one of the seven wonders of the world\".split(), bi_trainer.vocab)"
   ]
  },
  {
   "cell_type": "code",
   "execution_count": 26,
   "metadata": {},
   "outputs": [
    {
     "data": {
      "image/png": "[encoded data removed]",
      "text/plain": [
       "<Figure size 432x288 with 1 Axes>"
      ]
     },
     "metadata": {
      "needs_background": "light"
     },
     "output_type": "display_data"
    }
   ],
   "source": [
    "bi_trainer.model.encoder.visualize(\"apple is the forbidden fruit of the heaven\".split(), bi_trainer.vocab)"
   ]
  },
  {
   "cell_type": "markdown",
   "metadata": {},
   "source": [
    "Here we find that the bidirectionality does help. The first words are not always highly important. Infact we see it rightly captures important words from both sides of the sentence."
   ]
  },
  {
   "cell_type": "markdown",
   "metadata": {},
   "source": [
    "## Bidirectional LSTM with Max Pooling"
   ]
  },
  {
   "cell_type": "code",
   "execution_count": 13,
   "metadata": {},
   "outputs": [
    {
     "data": {
      "image/png": "[encoded data removed]",
      "text/plain": [
       "<Figure size 432x288 with 1 Axes>"
      ]
     },
     "metadata": {
      "needs_background": "light"
     },
     "output_type": "display_data"
    }
   ],
   "source": [
    "bimax_trainer.model.encoder.visualize(\"taj mahal is one of the seven wonders of the world\".split(), bimax_trainer.vocab)"
   ]
  },
  {
   "cell_type": "code",
   "execution_count": 14,
   "metadata": {},
   "outputs": [
    {
     "data": {
      "image/png": "[encoded data removed]",
      "text/plain": [
       "<Figure size 432x288 with 1 Axes>"
      ]
     },
     "metadata": {
      "needs_background": "light"
     },
     "output_type": "display_data"
    }
   ],
   "source": [
    "bimax_trainer.model.encoder.visualize(\"apple is the forbidden fruit of the heaven\".split(), bimax_trainer.vocab)"
   ]
  },
  {
   "cell_type": "markdown",
   "metadata": {},
   "source": [
    "Here we find a similar result as the bidirectional LSTM. In fact this method of finding the important words does not really differentiate between the pooling approach applied to this model. Hence similar results were expected."
   ]
  },
  {
   "cell_type": "markdown",
   "metadata": {},
   "source": [
    "## Sentence Similarities"
   ]
  },
  {
   "cell_type": "markdown",
   "metadata": {},
   "source": [
    "Now we demonstrate a sample of the task the model was trained for i.e. finding relations between pairs of sentences."
   ]
  },
  {
   "cell_type": "code",
   "execution_count": 17,
   "metadata": {},
   "outputs": [],
   "source": [
    "Bi_LSTM_max = SentenceEncoder(bimax_trainer.model.encoder, bimax_trainer.vocab)"
   ]
  },
  {
   "cell_type": "code",
   "execution_count": 33,
   "metadata": {},
   "outputs": [
    {
     "data": {
      "text/plain": [
       "0.21210186"
      ]
     },
     "execution_count": 33,
     "metadata": {},
     "output_type": "execute_result"
    }
   ],
   "source": [
    "Bi_LSTM_max.cosine_similarity(\"we went swimming in the sun\", \"it was a sunny day\")"
   ]
  },
  {
   "cell_type": "code",
   "execution_count": 34,
   "metadata": {},
   "outputs": [
    {
     "data": {
      "text/plain": [
       "0.090802304"
      ]
     },
     "execution_count": 34,
     "metadata": {},
     "output_type": "execute_result"
    }
   ],
   "source": [
    "Bi_LSTM_max.cosine_similarity(\"we went swimming in the sun\", \"it was a rainy day\")"
   ]
  },
  {
   "cell_type": "markdown",
   "metadata": {},
   "source": [
    "# Conclusion"
   ]
  },
  {
   "cell_type": "markdown",
   "metadata": {},
   "source": [
    "In conclusion, we find that a bidirectional LSTM with max pooling does learn the best representations for the SNLI corpus. However, due to the higher capacity of the model it specializes on the language inference task and does not generalize as well to the SentEval transfer tasks. One possible way to mitigate this could be to train the model for longer to look for a better loss topology."
   ]
  }
 ],
 "metadata": {
  "kernelspec": {
   "display_name": "Python [conda env:prod] *",
   "language": "python",
   "name": "conda-env-prod-py"
  },
  "language_info": {
   "codemirror_mode": {
    "name": "ipython",
    "version": 3
   },
   "file_extension": ".py",
   "mimetype": "text/x-python",
   "name": "python",
   "nbconvert_exporter": "python",
   "pygments_lexer": "ipython3",
   "version": "3.7.5"
  }
 },
 "nbformat": 4,
 "nbformat_minor": 4
}
